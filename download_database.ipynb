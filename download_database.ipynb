{
 "cells": [
  {
   "cell_type": "markdown",
   "metadata": {},
   "source": [
    "The goal of this file is to download the dataset coming as \n",
    "a unique tar file containing\n",
    "  * a readme-40.txt file indicating the licences\n",
    "  * a fr_wiktionary_excerpt.csv audio (excerpt of Wiktionary data)\n",
    "  * audio samples from Wikimedia Commons compressed as MFCC files\n",
    "\n",
    "The needed disk space is approximately:\n",
    "* 1.2Go (if mfcc==40)\n",
    "* 0.5Go (if mfcc==13)"
   ]
  },
  {
   "cell_type": "code",
   "execution_count": null,
   "metadata": {},
   "outputs": [],
   "source": [
    "import os\n",
    "import requests\n",
    "import tarfile"
   ]
  },
  {
   "cell_type": "code",
   "execution_count": null,
   "metadata": {},
   "outputs": [],
   "source": [
    "CONFIG = {\n",
    "    'csv_server': 'https://fonetik.fr',\n",
    "    'archive_file': 'gipfa.tar',    \n",
    "    'dictionary_source_file': 'fr_wiktionary_excerpt.csv',    \n",
    "    'root_dir': '.',\n",
    "    'mfcc': 40,\n",
    "}\n",
    "\n",
    "CONFIG['audio_dir'] = CONFIG['root_dir'] + '/' + 'audio'\n",
    "CONFIG['archive_file'] = CONFIG['archive_file'].replace('.', '-'+str(CONFIG['mfcc'])+'.')\n",
    "config = CONFIG"
   ]
  },
  {
   "cell_type": "code",
   "execution_count": null,
   "metadata": {},
   "outputs": [],
   "source": [
    "def download_archive():\n",
    "    \n",
    "    # download the dataset locally\n",
    "    filename = config['archive_file']\n",
    "    url_file = config['csv_server'] + '/' + filename\n",
    "    if not os.path.exists(filename):\n",
    "        # unfortunately wget does not work because of a redirection\n",
    "        # with the server containing the CSV\n",
    "        # so wget.download(url_file) doe not work\n",
    "        print('downloading %s' % filename)\n",
    "        r = requests.get(url_file, allow_redirects=True)\n",
    "        with open(filename, 'wb') as f:\n",
    "            f.write(r.content)"
   ]
  },
  {
   "cell_type": "code",
   "execution_count": null,
   "metadata": {},
   "outputs": [],
   "source": [
    "def extract_files():\n",
    "    filename = config['archive_file']\n",
    "    archive = tarfile.open(filename)\n",
    "    archive.extractall()\n",
    "    os.remove(filename)"
   ]
  },
  {
   "cell_type": "code",
   "execution_count": null,
   "metadata": {},
   "outputs": [],
   "source": [
    "main():\n",
    "    download_archive()\n",
    "    extract_files()"
   ]
  },
  {
   "cell_type": "code",
   "execution_count": null,
   "metadata": {},
   "outputs": [],
   "source": [
    "if __name__ == \"__main__\":\n",
    "    main()"
   ]
  },
  {
   "cell_type": "code",
   "execution_count": null,
   "metadata": {},
   "outputs": [],
   "source": [
    "# in order to execute this script in a regular .py file\n",
    "# open a terminal in the local curretn directory and\n",
    "# execute the following command:\n",
    "# jupyter nbconvert --to script 'download_database.ipynb'"
   ]
  }
 ],
 "metadata": {
  "kernelspec": {
   "display_name": "Python 3",
   "language": "python",
   "name": "python3"
  },
  "language_info": {
   "codemirror_mode": {
    "name": "ipython",
    "version": 3
   },
   "file_extension": ".py",
   "mimetype": "text/x-python",
   "name": "python",
   "nbconvert_exporter": "python",
   "pygments_lexer": "ipython3",
   "version": "3.6.10"
  }
 },
 "nbformat": 4,
 "nbformat_minor": 2
}
